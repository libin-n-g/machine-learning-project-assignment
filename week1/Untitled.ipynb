{
 "cells": [
  {
   "cell_type": "code",
   "execution_count": 1,
   "id": "43c7b66f-78a9-40ed-a0c9-afae37287c20",
   "metadata": {},
   "outputs": [],
   "source": [
    "# from scipy import stats\n",
    "# model.const\n",
    "# slope, intercept, r_value, p_value, std_err = stats.linregress(x, y)\n",
    "# print(\"Slope:\", slope)\n",
    "# print(\"Intercept:\", intercept)\n"
   ]
  },
  {
   "cell_type": "code",
   "execution_count": null,
   "id": "9ef977b7-e637-4489-a1d8-31fb0c535ced",
   "metadata": {},
   "outputs": [],
   "source": []
  }
 ],
 "metadata": {
  "kernelspec": {
   "display_name": "Python 3 (ipykernel)",
   "language": "python",
   "name": "python3"
  },
  "language_info": {
   "codemirror_mode": {
    "name": "ipython",
    "version": 3
   },
   "file_extension": ".py",
   "mimetype": "text/x-python",
   "name": "python",
   "nbconvert_exporter": "python",
   "pygments_lexer": "ipython3",
   "version": "3.10.13"
  }
 },
 "nbformat": 4,
 "nbformat_minor": 5
}
